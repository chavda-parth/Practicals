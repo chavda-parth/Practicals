{
 "cells": [
  {
   "cell_type": "markdown",
   "id": "e928168d",
   "metadata": {},
   "source": [
    "#  A programs\n",
    "# 1. WAP to create a dictionary for n values and print the size of the dictionary."
   ]
  },
  {
   "cell_type": "code",
   "execution_count": 16,
   "id": "829d6744",
   "metadata": {},
   "outputs": [
    {
     "data": {
      "text/plain": [
       "{'1': 'one'}"
      ]
     },
     "execution_count": 16,
     "metadata": {},
     "output_type": "execute_result"
    }
   ],
   "source": [
    "n = int(input(\"Enter number of values: \"))\n",
    "\n",
    "myDict = {}\n",
    "\n",
    "for i in range(n):\n",
    "    key = input(f\"Enter key {i + 1}\")\n",
    "    myDict[key] = input(f\"Enter value {i + 1}\")\n",
    "\n",
    "myDict"
   ]
  },
  {
   "cell_type": "markdown",
   "id": "cfb5ce23",
   "metadata": {},
   "source": [
    "# 2. WAP to create a dictionary from a string."
   ]
  },
  {
   "cell_type": "code",
   "execution_count": null,
   "id": "79b766f4",
   "metadata": {},
   "outputs": [],
   "source": []
  },
  {
   "cell_type": "markdown",
   "id": "0412f4c6",
   "metadata": {},
   "source": [
    "# 3. WAP to sort python dictionary by value in ascending and descending order."
   ]
  },
  {
   "cell_type": "code",
   "execution_count": null,
   "id": "f692f811",
   "metadata": {},
   "outputs": [],
   "source": []
  },
  {
   "cell_type": "markdown",
   "id": "bd92e871",
   "metadata": {},
   "source": [
    "# 4. WAP to sort python dictionary by key in ascending and descending order."
   ]
  },
  {
   "cell_type": "code",
   "execution_count": null,
   "id": "63aaa5fe",
   "metadata": {},
   "outputs": [],
   "source": []
  },
  {
   "cell_type": "markdown",
   "id": "38e6b605",
   "metadata": {},
   "source": [
    "# 5. WAP to enter a key and add a key to a dictionary if it does not exist."
   ]
  },
  {
   "cell_type": "code",
   "execution_count": 3,
   "id": "340c079c",
   "metadata": {},
   "outputs": [
    {
     "data": {
      "text/plain": [
       "{'DICA': 'Computer Applications',\n",
       " 'DIM': 'Commerce',\n",
       " 'DIET': 'Engineering',\n",
       " 'DIETSS': 'jsad'}"
      ]
     },
     "execution_count": 3,
     "metadata": {},
     "output_type": "execute_result"
    }
   ],
   "source": [
    "myDict = {\"DICA\" : \"Computer Applications\", \"DIM\" : \"Commerce\", \"DIET\" : \"Engineering\"}\n",
    "\n",
    "newKey = input(\"Enter new key: \")\n",
    "\n",
    "if newKey not in myDict:\n",
    "    myDict[newKey] = input(\"Enter new value: \")\n",
    "else:\n",
    "    print(\"Key already exists\")\n",
    "\n",
    "myDict"
   ]
  },
  {
   "cell_type": "markdown",
   "id": "f69eb92e",
   "metadata": {},
   "source": [
    "# 6. WAP to enter a key and to remove a key from a dictionary if it exists."
   ]
  },
  {
   "cell_type": "code",
   "execution_count": 5,
   "id": "9033bb24",
   "metadata": {},
   "outputs": [
    {
     "data": {
      "text/plain": [
       "{'DIM': 'Commerce', 'DIET': 'Engineering'}"
      ]
     },
     "execution_count": 5,
     "metadata": {},
     "output_type": "execute_result"
    }
   ],
   "source": [
    "myDict = {\"DICA\" : \"Computer Applications\", \"DIM\" : \"Commerce\", \"DIET\" : \"Engineering\"}\n",
    "\n",
    "removeKey = input(\"Enter key: \")\n",
    "\n",
    "if removeKey in myDict:\n",
    "    myDict.pop(removeKey)\n",
    "else:\n",
    "    print(\"Does not exist\")\n",
    "\n",
    "myDict"
   ]
  },
  {
   "cell_type": "markdown",
   "id": "e23fc84a",
   "metadata": {},
   "source": [
    "# 7. WAP to get the maximum and minimum value in a dictionary of 10 country names entered by user."
   ]
  },
  {
   "cell_type": "code",
   "execution_count": 8,
   "id": "6fa61ea9",
   "metadata": {},
   "outputs": [
    {
     "ename": "TypeError",
     "evalue": "update expected at most 1 argument, got 2",
     "output_type": "error",
     "traceback": [
      "\u001b[1;31m---------------------------------------------------------------------------\u001b[0m",
      "\u001b[1;31mTypeError\u001b[0m                                 Traceback (most recent call last)",
      "Cell \u001b[1;32mIn[8], line 3\u001b[0m\n\u001b[0;32m      1\u001b[0m myDict \u001b[38;5;241m=\u001b[39m {\u001b[38;5;124m\"\u001b[39m\u001b[38;5;124mDICA\u001b[39m\u001b[38;5;124m\"\u001b[39m : \u001b[38;5;124m\"\u001b[39m\u001b[38;5;124mComputer Applications\u001b[39m\u001b[38;5;124m\"\u001b[39m, \u001b[38;5;124m\"\u001b[39m\u001b[38;5;124mDIM\u001b[39m\u001b[38;5;124m\"\u001b[39m : \u001b[38;5;124m\"\u001b[39m\u001b[38;5;124mCommerce\u001b[39m\u001b[38;5;124m\"\u001b[39m, \u001b[38;5;124m\"\u001b[39m\u001b[38;5;124mDIET\u001b[39m\u001b[38;5;124m\"\u001b[39m : \u001b[38;5;124m\"\u001b[39m\u001b[38;5;124mEngineering\u001b[39m\u001b[38;5;124m\"\u001b[39m}\n\u001b[1;32m----> 3\u001b[0m \u001b[43mmyDict\u001b[49m\u001b[38;5;241;43m.\u001b[39;49m\u001b[43mupdate\u001b[49m\u001b[43m(\u001b[49m\u001b[43m{\u001b[49m\u001b[38;5;124;43m\"\u001b[39;49m\u001b[38;5;124;43mitem\u001b[39;49m\u001b[38;5;124;43m\"\u001b[39;49m\u001b[43m \u001b[49m\u001b[43m:\u001b[49m\u001b[43m \u001b[49m\u001b[38;5;124;43m\"\u001b[39;49m\u001b[38;5;124;43mvalue\u001b[39;49m\u001b[38;5;124;43m\"\u001b[39;49m\u001b[43m}\u001b[49m\u001b[43m,\u001b[49m\u001b[43m \u001b[49m\u001b[43m{\u001b[49m\u001b[38;5;124;43m\"\u001b[39;49m\u001b[38;5;124;43mitem2\u001b[39;49m\u001b[38;5;124;43m\"\u001b[39;49m\u001b[43m \u001b[49m\u001b[43m:\u001b[49m\u001b[43m \u001b[49m\u001b[38;5;124;43m\"\u001b[39;49m\u001b[38;5;124;43mvalue2\u001b[39;49m\u001b[38;5;124;43m\"\u001b[39;49m\u001b[43m}\u001b[49m\u001b[43m)\u001b[49m\n\u001b[0;32m      5\u001b[0m myDict\n",
      "\u001b[1;31mTypeError\u001b[0m: update expected at most 1 argument, got 2"
     ]
    }
   ],
   "source": []
  },
  {
   "cell_type": "markdown",
   "id": "684a89d1",
   "metadata": {},
   "source": [
    "# 8. WAP to merge two dictionaries given by user into one dictionary."
   ]
  },
  {
   "cell_type": "code",
   "execution_count": 9,
   "id": "39c21782",
   "metadata": {},
   "outputs": [
    {
     "data": {
      "text/plain": [
       "{'1': 'one', '2': 'two', '3': 'three', '4': 'four'}"
      ]
     },
     "execution_count": 9,
     "metadata": {},
     "output_type": "execute_result"
    }
   ],
   "source": [
    "n1 = int(input(\"Enter number of values for first list: \"))\n",
    "\n",
    "myDict1 = {}\n",
    "\n",
    "for i in range(n1):\n",
    "    key = input(f\"Enter key {i + 1}\")\n",
    "    myDict1[key] = input(f\"Enter value {i + 1}\")\n",
    "\n",
    "n2 = int(input(\"Enter number of values for second list: \"))\n",
    "\n",
    "myDict2 = {}\n",
    "\n",
    "for i in range(n2):\n",
    "    key = input(f\"Enter key {i + 1}\")\n",
    "    myDict2[key] = input(f\"Enter value {i + 1}\")\n",
    "\n",
    "myDict3 = {}\n",
    "\n",
    "for dictKey in myDict1:\n",
    "    if dictKey in myDict3:\n",
    "        print(f\"{dictKey} already present in dictionary.\")\n",
    "    else:\n",
    "        myDict3[dictKey] = myDict1[dictKey]\n",
    "\n",
    "\n",
    "for dictKey in myDict2:\n",
    "    if dictKey in myDict3:\n",
    "        print(f\"{dictKey} already present in dictionary.\")\n",
    "    else:\n",
    "        myDict3[dictKey] = myDict2[dictKey]\n",
    "\n",
    "myDict3"
   ]
  },
  {
   "cell_type": "markdown",
   "id": "58dd980c",
   "metadata": {},
   "source": [
    "# 9. WAP to convert two lists into a dictionary."
   ]
  },
  {
   "cell_type": "code",
   "execution_count": 15,
   "id": "764e2b3c",
   "metadata": {},
   "outputs": [
    {
     "data": {
      "text/plain": [
       "{1: 'dsaj'}"
      ]
     },
     "execution_count": 15,
     "metadata": {},
     "output_type": "execute_result"
    }
   ],
   "source": []
  },
  {
   "cell_type": "markdown",
   "id": "6254c6df",
   "metadata": {},
   "source": [
    "# 10. WAP to map two lists into a dictionary."
   ]
  },
  {
   "cell_type": "code",
   "execution_count": null,
   "id": "b991bb2d",
   "metadata": {},
   "outputs": [],
   "source": []
  },
  {
   "cell_type": "markdown",
   "id": "c6105056",
   "metadata": {},
   "source": [
    "# B programs\n",
    "# 1. WAP to remove all the duplicate words from the list using dictionary."
   ]
  },
  {
   "cell_type": "code",
   "execution_count": null,
   "id": "0bbb7329",
   "metadata": {},
   "outputs": [],
   "source": []
  },
  {
   "cell_type": "markdown",
   "id": "8ba7f878",
   "metadata": {},
   "source": [
    "# 2. WAP to count frequency or occurrence of list element from a list using a dictionary."
   ]
  },
  {
   "cell_type": "code",
   "execution_count": null,
   "id": "a3823baa",
   "metadata": {},
   "outputs": [],
   "source": []
  },
  {
   "cell_type": "markdown",
   "id": "baf5ce70",
   "metadata": {},
   "source": [
    "# 3. Write a Python program to create and display all combinations of letters, selecting each letter from a different key in a dictionary."
   ]
  },
  {
   "cell_type": "code",
   "execution_count": null,
   "id": "a02d4ed4",
   "metadata": {},
   "outputs": [],
   "source": []
  },
  {
   "cell_type": "markdown",
   "id": "00bade4d",
   "metadata": {},
   "source": [
    "# 4. WAP to print all unique values in a dictionary."
   ]
  },
  {
   "cell_type": "code",
   "execution_count": null,
   "id": "30d06cdc",
   "metadata": {},
   "outputs": [],
   "source": []
  },
  {
   "cell_type": "markdown",
   "id": "31b8bf24",
   "metadata": {},
   "source": [
    "# 5. WAP to replace words from Dictionary using: 1) split(), get() and join() and 2) list comprehension and join()."
   ]
  },
  {
   "cell_type": "code",
   "execution_count": null,
   "id": "994d8fc1",
   "metadata": {},
   "outputs": [],
   "source": []
  }
 ],
 "metadata": {
  "kernelspec": {
   "display_name": "Python 3 (ipykernel)",
   "language": "python",
   "name": "python3"
  },
  "language_info": {
   "codemirror_mode": {
    "name": "ipython",
    "version": 3
   },
   "file_extension": ".py",
   "mimetype": "text/x-python",
   "name": "python",
   "nbconvert_exporter": "python",
   "pygments_lexer": "ipython3",
   "version": "3.12.1"
  }
 },
 "nbformat": 4,
 "nbformat_minor": 5
}
