{
 "cells": [
  {
   "cell_type": "markdown",
   "id": "77681ca0",
   "metadata": {},
   "source": [
    "WAP to print sum of all elements in a list."
   ]
  },
  {
   "cell_type": "code",
   "execution_count": 6,
   "id": "3fc6837b",
   "metadata": {},
   "outputs": [
    {
     "name": "stdout",
     "output_type": "stream",
     "text": [
      "Enter number of elements: 5\n",
      "10\n",
      "20\n",
      "30\n",
      "40\n",
      "50\n",
      "150\n"
     ]
    }
   ],
   "source": [
    "myList = []\n",
    "\n",
    "len = int(input(\"Enter number of elements: \"))\n",
    "sum = 0\n",
    "\n",
    "for i in range(len):\n",
    "    myList.append(int(input()))\n",
    "    sum += myList[i]\n",
    "    \n",
    "print(sum)"
   ]
  },
  {
   "cell_type": "markdown",
   "id": "30f0ff7a",
   "metadata": {},
   "source": [
    "Find largest and smallest element in list."
   ]
  },
  {
   "cell_type": "code",
   "execution_count": 7,
   "id": "9d1b6d2a",
   "metadata": {},
   "outputs": [
    {
     "name": "stdout",
     "output_type": "stream",
     "text": [
      "Enter number of elements: 5\n",
      "345\n",
      "56\n",
      "0\n",
      "-1\n",
      "67\n",
      "max: 345\n",
      "min: -1\n"
     ]
    }
   ],
   "source": [
    "myList = []\n",
    "\n",
    "len = int(input(\"Enter number of elements: \"))\n",
    "max = min = 0\n",
    "\n",
    "for i in range(len):\n",
    "    myList.append(int(input()))\n",
    "    \n",
    "    if(max < myList[i]):\n",
    "        max = myList[i]\n",
    "        \n",
    "    if(min > myList[i]):\n",
    "        min = myList[i]\n",
    "        \n",
    "print(\"max:\", max)\n",
    "print(\"min:\", min)"
   ]
  },
  {
   "cell_type": "markdown",
   "id": "c8729cd9",
   "metadata": {},
   "source": [
    "WAP to take a list of any six product names, split the list into two and append the first part to the end of the list."
   ]
  },
  {
   "cell_type": "code",
   "execution_count": 20,
   "id": "796e7ea9",
   "metadata": {},
   "outputs": [
    {
     "name": "stdout",
     "output_type": "stream",
     "text": [
      "4\n",
      "m1\n",
      "m2\n",
      "m3\n",
      "m4\n",
      "m5\n",
      "['4', 'm1', 'm2', 'm3', 'm4', 'm5', '4', 'm1', 'm2']\n"
     ]
    }
   ],
   "source": [
    "myList = []\n",
    "\n",
    "for i in range(6):\n",
    "    myList.append(input())\n",
    "\n",
    "myList.extend(myList[0:3])\n",
    "    \n",
    "print(myList)"
   ]
  },
  {
   "cell_type": "markdown",
   "id": "235ca78d",
   "metadata": {},
   "source": [
    "WAP to interchange first and last element in a list entered by user."
   ]
  },
  {
   "cell_type": "code",
   "execution_count": 18,
   "id": "2bf45f19",
   "metadata": {},
   "outputs": [
    {
     "name": "stdout",
     "output_type": "stream",
     "text": [
      "Enter number of elements: 4\n",
      "m1\n",
      "m2\n",
      "m3\n",
      "m4\n",
      "['m4', 'm2', 'm3', 'm1']\n"
     ]
    }
   ],
   "source": [
    "myList = []\n",
    "\n",
    "len = int(input(\"Enter number of elements: \"))\n",
    "\n",
    "for i in range(len):\n",
    "    myList.append((input()))\n",
    "    \n",
    "myList[0], myList[-1] = myList[-1], myList[0]\n",
    "    \n",
    "print(myList)"
   ]
  },
  {
   "cell_type": "markdown",
   "id": "c5e8ef69",
   "metadata": {},
   "source": [
    "WAP to interchange list elements from positions entered by user."
   ]
  },
  {
   "cell_type": "code",
   "execution_count": 23,
   "id": "7ee1fd1e",
   "metadata": {},
   "outputs": [
    {
     "name": "stdout",
     "output_type": "stream",
     "text": [
      "Enter number of elements: 5\n",
      "m1\n",
      "m2\n",
      "m3\n",
      "m4\n",
      "m5\n",
      "Enter first position: 2\n",
      "Enter second position: 5\n",
      "['m1', 'm5', 'm3', 'm4', 'm2']\n"
     ]
    }
   ],
   "source": [
    "myList = []\n",
    "\n",
    "len = int(input(\"Enter number of elements: \"))\n",
    "\n",
    "for i in range(len):\n",
    "    myList.append((input()))\n",
    "    \n",
    "firstPos = int(input(\"Enter first position: \"))\n",
    "secondPos = int(input(\"Enter second position: \"))\n",
    "\n",
    "myList[firstPos - 1], myList[secondPos - 1] = myList[secondPos - 1], myList[firstPos - 1]\n",
    "\n",
    "print(myList)"
   ]
  },
  {
   "cell_type": "code",
   "execution_count": 27,
   "id": "baf87b05",
   "metadata": {},
   "outputs": [
    {
     "name": "stdout",
     "output_type": "stream",
     "text": [
      "Enter number of elements: 4\n",
      "m1\n",
      "m2\n",
      "m3\n",
      "m4\n",
      "['m4', 'm3', 'm2', 'm1']\n"
     ]
    }
   ],
   "source": [
    "myList = []\n",
    "\n",
    "len = int(input(\"Enter number of elements: \"))\n",
    "\n",
    "for i in range(len):\n",
    "    myList.append((input()))\n",
    "    \n",
    "for i in range(len//2):\n",
    "    myList[i], myList[(len - i) - 1] = myList[(len - i) - 1], myList[i]\n",
    "    \n",
    "print(myList)"
   ]
  },
  {
   "cell_type": "code",
   "execution_count": null,
   "id": "7b11364c",
   "metadata": {},
   "outputs": [],
   "source": []
  }
 ],
 "metadata": {
  "kernelspec": {
   "display_name": "Python 3 (ipykernel)",
   "language": "python",
   "name": "python3"
  },
  "language_info": {
   "codemirror_mode": {
    "name": "ipython",
    "version": 3
   },
   "file_extension": ".py",
   "mimetype": "text/x-python",
   "name": "python",
   "nbconvert_exporter": "python",
   "pygments_lexer": "ipython3",
   "version": "3.9.12"
  }
 },
 "nbformat": 4,
 "nbformat_minor": 5
}
