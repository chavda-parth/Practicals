{
 "cells": [
  {
   "cell_type": "markdown",
   "id": "b82d8580",
   "metadata": {},
   "source": [
    "___\n",
    "<a href='https://www.darshan.ac.in/'><center> <img width=20% height=20% src='https://www.darshan.ac.in/Content/media/DU_Logo.svg'/></center></a>\n",
    "<pre>\n",
    "<center><b>Python</b></center>\n",
    "<center><b>Lab - 5(LOOP)</b></center>    \n",
    "</pre>\n",
    "____"
   ]
  },
  {
   "cell_type": "markdown",
   "id": "cd356d2e",
   "metadata": {},
   "source": [
    "<pre>\n",
    "<h3> <p style=\"color:red\"> USING WHILE LOOP</p> </h3>\n",
    "</pre>"
   ]
  },
  {
   "cell_type": "markdown",
   "id": "08782d2f",
   "metadata": {},
   "source": [
    "## 1) WAP to print 1 to n"
   ]
  },
  {
   "cell_type": "code",
   "execution_count": 1,
   "id": "a779ec4c",
   "metadata": {},
   "outputs": [
    {
     "name": "stdout",
     "output_type": "stream",
     "text": [
      "Enter n: 10\n",
      "1\n",
      "2\n",
      "3\n",
      "4\n",
      "5\n",
      "6\n",
      "7\n",
      "8\n",
      "9\n",
      "10\n"
     ]
    }
   ],
   "source": [
    "n = int(input('Enter n: '))\n",
    "\n",
    "i = 1\n",
    "\n",
    "while (i <= n):\n",
    "    print(i)\n",
    "    i += 1"
   ]
  },
  {
   "cell_type": "markdown",
   "id": "f6f64e52",
   "metadata": {},
   "source": [
    "## 2)WAP to print odd numbers between given two numbers."
   ]
  },
  {
   "cell_type": "code",
   "execution_count": 4,
   "id": "b1afec05",
   "metadata": {},
   "outputs": [
    {
     "name": "stdout",
     "output_type": "stream",
     "text": [
      "Enter first number: 1\n",
      "Enter second number: 4\n",
      "1\n",
      "3\n"
     ]
    }
   ],
   "source": [
    "a = int(input('Enter first number: '))\n",
    "b = int(input('Enter second number: '))\n",
    "\n",
    "i = a\n",
    "\n",
    "while (i <= b):\n",
    "    if(i % 2 != 0):\n",
    "        print(i)\n",
    "    i += 1"
   ]
  },
  {
   "cell_type": "markdown",
   "id": "c371b88b",
   "metadata": {},
   "source": [
    " ## 3) WAP to print n number of sum"
   ]
  },
  {
   "cell_type": "code",
   "execution_count": 5,
   "id": "7ad02419",
   "metadata": {},
   "outputs": [
    {
     "name": "stdout",
     "output_type": "stream",
     "text": [
      "Enter n: 5\n",
      "15\n"
     ]
    }
   ],
   "source": [
    "n = int(input('Enter n: '))\n",
    "\n",
    "i = 1\n",
    "addition = 0\n",
    "\n",
    "while (i <= n):\n",
    "    addition += i\n",
    "    i += 1\n",
    "\n",
    "print(addition)"
   ]
  },
  {
   "cell_type": "markdown",
   "id": "113e4ad1",
   "metadata": {},
   "source": [
    "## 4) WAP to print sum of digits of given number."
   ]
  },
  {
   "cell_type": "code",
   "execution_count": 7,
   "id": "d025abb2",
   "metadata": {},
   "outputs": [
    {
     "name": "stdout",
     "output_type": "stream",
     "text": [
      "Enter number: 12345\n",
      "15\n"
     ]
    }
   ],
   "source": [
    "num = int(input('Enter number: '))\n",
    "\n",
    "temp = num\n",
    "dsum = 0\n",
    "\n",
    "while (temp > 0):\n",
    "    mod = temp % 10\n",
    "    temp = temp // 10\n",
    "    dsum += mod\n",
    "    \n",
    "print(dsum)"
   ]
  },
  {
   "cell_type": "markdown",
   "id": "7a17299a",
   "metadata": {},
   "source": [
    "## 5)  WAP to find whether the given number is prime or not."
   ]
  },
  {
   "cell_type": "code",
   "execution_count": 11,
   "id": "a7ba0f41",
   "metadata": {},
   "outputs": [
    {
     "name": "stdout",
     "output_type": "stream",
     "text": [
      "Enter number: 13\n",
      "Prime\n"
     ]
    }
   ],
   "source": [
    "n = int(input('Enter number: '))\n",
    "\n",
    "i = 2\n",
    "flag = 0\n",
    "\n",
    "while (i < n):\n",
    "    if (n % i == 0):\n",
    "        flag = 1\n",
    "        break\n",
    "    \n",
    "    i += 1\n",
    "    \n",
    "if (flag == 0):\n",
    "    print('Prime')\n",
    "else:\n",
    "    print('Not Prime')"
   ]
  },
  {
   "cell_type": "markdown",
   "id": "babe992c",
   "metadata": {},
   "source": [
    "<pre>\n",
    "<h3><p style=\"color:red\"> USING FOR LOOP </p> </h3>\n",
    "</pre>"
   ]
  },
  {
   "cell_type": "markdown",
   "id": "a8a0a131",
   "metadata": {},
   "source": [
    "## 7) WAP to print sum of series 1–2+3–4+5–6+7...n"
   ]
  },
  {
   "cell_type": "code",
   "execution_count": 1,
   "id": "72de6a9c",
   "metadata": {},
   "outputs": [
    {
     "name": "stdout",
     "output_type": "stream",
     "text": [
      "3\n"
     ]
    }
   ],
   "source": [
    "n = int(input('Enter n: '))\n",
    "\n",
    "result = 0\n",
    "\n",
    "for i in range(1,n + 1):\n",
    "    if (i % 2 != 0):\n",
    "        result += i\n",
    "    else:\n",
    "        result -= i\n",
    "        \n",
    "print(result)"
   ]
  },
  {
   "cell_type": "markdown",
   "id": "b503d505",
   "metadata": {},
   "source": [
    "## 8) WAP to print multiplication table of given number.(using for loop)"
   ]
  },
  {
   "cell_type": "code",
   "execution_count": 2,
   "id": "bf430fbf",
   "metadata": {},
   "outputs": [
    {
     "name": "stdout",
     "output_type": "stream",
     "text": [
      "10  x  1  =  10\n",
      "10  x  2  =  20\n",
      "10  x  3  =  30\n",
      "10  x  4  =  40\n",
      "10  x  5  =  50\n",
      "10  x  6  =  60\n",
      "10  x  7  =  70\n",
      "10  x  8  =  80\n",
      "10  x  9  =  90\n",
      "10  x  10  =  100\n"
     ]
    }
   ],
   "source": [
    "num = int(input('Enter number: '))\n",
    "\n",
    "for i in range(1, num + 1):\n",
    "    print(num, ' x ', i, ' = ', (num * i))"
   ]
  },
  {
   "cell_type": "markdown",
   "id": "a3ffbd15",
   "metadata": {},
   "source": [
    "## 9) WAP to find factorial of the given number."
   ]
  },
  {
   "cell_type": "code",
   "execution_count": 8,
   "id": "537ac3e2",
   "metadata": {},
   "outputs": [
    {
     "name": "stdout",
     "output_type": "stream",
     "text": [
      "720\n"
     ]
    }
   ],
   "source": [
    "num = int(input('Enter number: '))\n",
    "\n",
    "fact = 1\n",
    "\n",
    "for i in range(1, num):\n",
    "    fact = fact + (fact * i)\n",
    "    \n",
    "print(fact)"
   ]
  },
  {
   "cell_type": "markdown",
   "id": "4ebd2c8a",
   "metadata": {},
   "source": [
    "## 10) WAP to find out prime numbers between given two numbers."
   ]
  },
  {
   "cell_type": "code",
   "execution_count": 2,
   "id": "c4f8a0c1",
   "metadata": {},
   "outputs": [
    {
     "name": "stdout",
     "output_type": "stream",
     "text": [
      "1\n",
      "2\n",
      "3\n",
      "5\n",
      "7\n",
      "11\n"
     ]
    }
   ],
   "source": [
    "a = int(input('Enter first number: '))\n",
    "b = int(input('Enter second number: '))\n",
    "flag = 0\n",
    "\n",
    "for i in range(a, b + 1):\n",
    "    flag = 0\n",
    "    \n",
    "    for j in range(i):\n",
    "        if (i % (j + 1) == 0):\n",
    "            flag += 1\n",
    "        \n",
    "    if (flag <= 2):\n",
    "        print(i)"
   ]
  },
  {
   "cell_type": "markdown",
   "id": "7bd9cdd2",
   "metadata": {},
   "source": [
    "<h3><p style=\"color:red\">EXTRA</p></h3>"
   ]
  },
  {
   "cell_type": "markdown",
   "id": "93cb8a5d",
   "metadata": {},
   "source": [
    "## 1) WAP to Find largest prime factor of given number.\n"
   ]
  },
  {
   "cell_type": "code",
   "execution_count": 4,
   "id": "385b9715",
   "metadata": {},
   "outputs": [
    {
     "name": "stdout",
     "output_type": "stream",
     "text": [
      "5\n"
     ]
    }
   ],
   "source": [
    "num = int(input('Enter number: '))\n",
    "\n",
    "i = num\n",
    "\n",
    "while(i >= 1):\n",
    "    if(num % i == 0):\n",
    "        j = 2\n",
    "        isPrime = True\n",
    "\n",
    "        while(j < i):\n",
    "            if(i % j == 0):\n",
    "                isPrime = False\n",
    "                break\n",
    "            \n",
    "            j += 1\n",
    "\n",
    "    if(isPrime == True):\n",
    "        print(i)\n",
    "        break\n",
    "    \n",
    "    i = i - 1\n"
   ]
  },
  {
   "cell_type": "markdown",
   "id": "2e2c93ce",
   "metadata": {},
   "source": [
    "## 2) WAP to print Fibonacci series up to number given by user."
   ]
  },
  {
   "cell_type": "code",
   "execution_count": 24,
   "id": "19ae8538",
   "metadata": {},
   "outputs": [
    {
     "name": "stdout",
     "output_type": "stream",
     "text": [
      "0 + 1 + 1 + 2 + 3 + 5 + 8 + 13 + 21 + 34\n"
     ]
    }
   ],
   "source": [
    "n = int(input(\"Enter number: \"))\n",
    "\n",
    "fib = [0, 1]\n",
    "\n",
    "for i in range(n):\n",
    "    if(i > 1):\n",
    "        fib.append(fib[i - 1] + fib[i - 2])\n",
    "\n",
    "print(*fib, sep = ' + ')"
   ]
  },
  {
   "cell_type": "markdown",
   "id": "1a9888e1",
   "metadata": {},
   "source": [
    "\n",
    "## 3) WAP to print all the number which are divisible by 11 but not divisible by 2 between given two numbers."
   ]
  },
  {
   "cell_type": "code",
   "execution_count": 30,
   "id": "c11adc46",
   "metadata": {},
   "outputs": [
    {
     "name": "stdout",
     "output_type": "stream",
     "text": [
      "11\n",
      "33\n",
      "55\n",
      "77\n"
     ]
    }
   ],
   "source": [
    "num1 = int(input(\"Enter number 1: \"))\n",
    "num2 = int(input(\"Enter number 2: \"))\n",
    "\n",
    "for num in range(num1, num2 + 1):\n",
    "    if(num % 11 == 0 and num % 2 != 0):\n",
    "        print(num)"
   ]
  }
 ],
 "metadata": {
  "kernelspec": {
   "display_name": "Python 3 (ipykernel)",
   "language": "python",
   "name": "python3"
  },
  "language_info": {
   "codemirror_mode": {
    "name": "ipython",
    "version": 3
   },
   "file_extension": ".py",
   "mimetype": "text/x-python",
   "name": "python",
   "nbconvert_exporter": "python",
   "pygments_lexer": "ipython3",
   "version": "3.12.1"
  }
 },
 "nbformat": 4,
 "nbformat_minor": 5
}
