{
 "cells": [
  {
   "cell_type": "markdown",
   "id": "e928168d",
   "metadata": {},
   "source": [
    "# A programs\n",
    "#  1. WAP to find sum of all the elements in list."
   ]
  },
  {
   "cell_type": "code",
   "execution_count": 7,
   "id": "829d6744",
   "metadata": {},
   "outputs": [
    {
     "name": "stdout",
     "output_type": "stream",
     "text": [
      "52\n"
     ]
    }
   ],
   "source": [
    "myList = [2, 34, 3, 4, 3, 6]\n",
    "sum = 0\n",
    "\n",
    "for i in myList:\n",
    "    sum = sum + i\n",
    "\n",
    "print(sum) "
   ]
  },
  {
   "cell_type": "markdown",
   "id": "cfb5ce23",
   "metadata": {},
   "source": [
    "# 2. WAP to find the smallest and largest element in a list."
   ]
  },
  {
   "cell_type": "code",
   "execution_count": 13,
   "id": "79b766f4",
   "metadata": {},
   "outputs": [
    {
     "name": "stdout",
     "output_type": "stream",
     "text": [
      "Max = 34\n",
      "Min = -46\n"
     ]
    }
   ],
   "source": [
    "myList = [2, 34, 3, 4, -3, 6, -46, 0,]\n",
    "\n",
    "max = min = myList[0]\n",
    "\n",
    "for i in myList:\n",
    "    if max < i:\n",
    "        max = i\n",
    "\n",
    "    if min > i:\n",
    "        min = i\n",
    "\n",
    "print(\"Max =\", max)\n",
    "print(\"Min =\", min)"
   ]
  },
  {
   "cell_type": "markdown",
   "id": "0412f4c6",
   "metadata": {},
   "source": [
    "# 3. WAP to take a list of any six product names split the list into two and append the first part to the end of the list."
   ]
  },
  {
   "cell_type": "code",
   "execution_count": 65,
   "id": "f692f811",
   "metadata": {},
   "outputs": [
    {
     "name": "stdout",
     "output_type": "stream",
     "text": [
      "['Notepad', 'Microsoft Office', 'Google Drive', 'Github', 'VS Code', 'Jira']\n"
     ]
    }
   ],
   "source": [
    "myList = ['Github', 'VS Code', 'Jira', 'Notepad', 'Microsoft Office', 'Google Drive']\n",
    "\n",
    "i = 0\n",
    "n = len(myList)\n",
    "\n",
    "tempList = []\n",
    "\n",
    "while i < (n//2):\n",
    "    # temp = myList[i]\n",
    "    # myList[i] = myList[(n - 1) - i]\n",
    "    # myList[(n - 1) - i] = temp\n",
    "\n",
    "    tempList.append(myList[0])\n",
    "    myList.remove(myList[0])\n",
    "    i = i + 1\n",
    "\n",
    "myList.extend(tempList)\n",
    "\n",
    "print(myList)"
   ]
  },
  {
   "cell_type": "markdown",
   "id": "bd92e871",
   "metadata": {},
   "source": [
    "# 4. WAP to interchange first and last elements in list entered by a user."
   ]
  },
  {
   "cell_type": "code",
   "execution_count": 18,
   "id": "63aaa5fe",
   "metadata": {},
   "outputs": [
    {
     "data": {
      "text/plain": [
       "['there', 'hi', 'hello']"
      ]
     },
     "execution_count": 18,
     "metadata": {},
     "output_type": "execute_result"
    }
   ],
   "source": [
    "myList = []\n",
    "\n",
    "len = int(input(\"Enter number of elements: \"))\n",
    "\n",
    "for i in range(len):\n",
    "    myList.append(input())\n",
    "\n",
    "temp = myList[0]\n",
    "myList[0] = myList[len - 1]\n",
    "myList[len - 1] = temp\n",
    "\n",
    "myList"
   ]
  },
  {
   "cell_type": "markdown",
   "id": "38e6b605",
   "metadata": {},
   "source": [
    "# 5. WAP to interchange the list elements on two positions entered by a user from a list."
   ]
  },
  {
   "cell_type": "code",
   "execution_count": 3,
   "id": "340c079c",
   "metadata": {},
   "outputs": [
    {
     "data": {
      "text/plain": [
       "['This', 'List', 'A', 'Is']"
      ]
     },
     "execution_count": 3,
     "metadata": {},
     "output_type": "execute_result"
    }
   ],
   "source": [
    "myList = []\n",
    "\n",
    "len = int(input(\"Enter number of elements: \"))\n",
    "\n",
    "for i in range(len):\n",
    "    myList.append(input())\n",
    "\n",
    "pos1 = int(input(\"Enter position of first element: \"))\n",
    "pos2 = int(input(\"Enter position of second element: \"))\n",
    "\n",
    "temp = myList[pos1 - 1]\n",
    "myList[pos1 - 1] = myList[pos2 - 1]\n",
    "myList[pos2 - 1] = temp\n",
    "\n",
    "myList"
   ]
  },
  {
   "cell_type": "markdown",
   "id": "f69eb92e",
   "metadata": {},
   "source": [
    "# 6. WAP to reverses the list entered by user."
   ]
  },
  {
   "cell_type": "code",
   "execution_count": 15,
   "id": "9033bb24",
   "metadata": {},
   "outputs": [
    {
     "data": {
      "text/plain": [
       "['list', 'a', 'is', 'this']"
      ]
     },
     "execution_count": 15,
     "metadata": {},
     "output_type": "execute_result"
    }
   ],
   "source": [
    "myList = []\n",
    "\n",
    "len = int(input(\"Enter number of elements: \"))\n",
    "\n",
    "for i in range(len):\n",
    "    myList.append(input())\n",
    "\n",
    "for i in range(len - 1):\n",
    "    myList.insert(i, myList.pop())\n",
    "\n",
    "myList"
   ]
  },
  {
   "cell_type": "markdown",
   "id": "e23fc84a",
   "metadata": {},
   "source": [
    "# 7. WAP to print all even number in list entered by user."
   ]
  },
  {
   "cell_type": "code",
   "execution_count": 4,
   "id": "6fa61ea9",
   "metadata": {},
   "outputs": [
    {
     "name": "stdout",
     "output_type": "stream",
     "text": [
      "2\n",
      "4\n",
      "6\n",
      "8\n",
      "10\n",
      "4\n"
     ]
    }
   ],
   "source": [
    "myList = []\n",
    "\n",
    "len = int(input(\"Enter number of elements: \"))\n",
    "\n",
    "for i in range(len):\n",
    "    myList.append(int(input()))\n",
    "\n",
    "for i in myList:\n",
    "    if(i % 2 == 0):\n",
    "        print(i)\n"
   ]
  },
  {
   "cell_type": "markdown",
   "id": "684a89d1",
   "metadata": {},
   "source": [
    "# 8. WAP to print all odd number in list entered by user."
   ]
  },
  {
   "cell_type": "code",
   "execution_count": null,
   "id": "39c21782",
   "metadata": {},
   "outputs": [],
   "source": [
    "myList = []\n",
    "\n",
    "len = int(input(\"Enter number of elements: \"))\n",
    "\n",
    "for i in range(len):\n",
    "    myList.append(int(input()))\n",
    "\n",
    "for i in myList:\n",
    "    if(i % 2 != 0):\n",
    "        print(i)\n"
   ]
  },
  {
   "cell_type": "markdown",
   "id": "58dd980c",
   "metadata": {},
   "source": [
    "# 9. WAP to search an element in a list as entered by user."
   ]
  },
  {
   "cell_type": "code",
   "execution_count": 10,
   "id": "764e2b3c",
   "metadata": {},
   "outputs": [
    {
     "name": "stdout",
     "output_type": "stream",
     "text": [
      "Search Successfull\n"
     ]
    }
   ],
   "source": [
    "myList = ['Github', 'VS Code', 'Jira', 'Notepad', 'Microsoft Office', 'Google Drive']\n",
    "\n",
    "element\n",
    "\n",
    "print(myList.index())"
   ]
  },
  {
   "cell_type": "markdown",
   "id": "6254c6df",
   "metadata": {},
   "source": [
    "# 10. WAP to sort a list in ascending or descending order as per user’s choice."
   ]
  },
  {
   "cell_type": "code",
   "execution_count": null,
   "id": "b991bb2d",
   "metadata": {},
   "outputs": [],
   "source": []
  },
  {
   "cell_type": "markdown",
   "id": "c6105056",
   "metadata": {},
   "source": [
    "# 11. WAP program to convert a list of characters entered by user into a string."
   ]
  },
  {
   "cell_type": "code",
   "execution_count": null,
   "id": "0bbb7329",
   "metadata": {},
   "outputs": [],
   "source": []
  },
  {
   "cell_type": "markdown",
   "id": "8ba7f878",
   "metadata": {},
   "source": [
    "# 12. WAP to enter name, quantity and price of 5 products by a user. Generate and print all the details with the Product’s total amount in formatted manner."
   ]
  },
  {
   "cell_type": "code",
   "execution_count": null,
   "id": "a3823baa",
   "metadata": {},
   "outputs": [],
   "source": []
  },
  {
   "cell_type": "markdown",
   "id": "d6437fec",
   "metadata": {},
   "source": [
    "# B programs\n",
    "# 1. WAP to count even and odd numbers in a List."
   ]
  },
  {
   "cell_type": "code",
   "execution_count": null,
   "id": "a1f1b31e",
   "metadata": {},
   "outputs": [],
   "source": []
  },
  {
   "cell_type": "markdown",
   "id": "1a552c04",
   "metadata": {},
   "source": [
    "# 2. WAP to remove multiple elements from a list in Python as per value entered by user."
   ]
  },
  {
   "cell_type": "code",
   "execution_count": null,
   "id": "997f66e2",
   "metadata": {},
   "outputs": [],
   "source": []
  },
  {
   "cell_type": "markdown",
   "id": "eca45fc0",
   "metadata": {},
   "source": [
    "# 3. WAP to print duplicates from a list of integers."
   ]
  },
  {
   "cell_type": "code",
   "execution_count": null,
   "id": "a1882159",
   "metadata": {},
   "outputs": [],
   "source": []
  },
  {
   "cell_type": "markdown",
   "id": "ca8f5472",
   "metadata": {},
   "source": [
    "# 4. WAP to count the number of strings where the string length is 2 or more and the first and last character are same from a given list of strings."
   ]
  },
  {
   "cell_type": "code",
   "execution_count": null,
   "id": "48f99a80",
   "metadata": {},
   "outputs": [],
   "source": []
  },
  {
   "cell_type": "markdown",
   "id": "fe32afc5",
   "metadata": {},
   "source": [
    "# 5. WAP to check whether a list contains a sub-list and generate all sub-lists of a list."
   ]
  },
  {
   "cell_type": "code",
   "execution_count": null,
   "id": "8cac8349",
   "metadata": {},
   "outputs": [],
   "source": []
  }
 ],
 "metadata": {
  "kernelspec": {
   "display_name": "Python 3 (ipykernel)",
   "language": "python",
   "name": "python3"
  },
  "language_info": {
   "codemirror_mode": {
    "name": "ipython",
    "version": 3
   },
   "file_extension": ".py",
   "mimetype": "text/x-python",
   "name": "python",
   "nbconvert_exporter": "python",
   "pygments_lexer": "ipython3",
   "version": "3.9.13"
  }
 },
 "nbformat": 4,
 "nbformat_minor": 5
}
