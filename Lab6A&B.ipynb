{
 "cells": [
  {
   "cell_type": "markdown",
   "id": "e928168d",
   "metadata": {},
   "source": [
    "# A programs\n",
    "#  1. WAP to find sum of all the elements in list."
   ]
  },
  {
   "cell_type": "code",
   "execution_count": 4,
   "id": "829d6744",
   "metadata": {},
   "outputs": [
    {
     "ename": "ValueError",
     "evalue": "invalid literal for int() with base 10: ':'",
     "output_type": "error",
     "traceback": [
      "\u001b[1;31m---------------------------------------------------------------------------\u001b[0m",
      "\u001b[1;31mValueError\u001b[0m                                Traceback (most recent call last)",
      "Cell \u001b[1;32mIn[4], line 3\u001b[0m\n\u001b[0;32m      1\u001b[0m myList \u001b[38;5;241m=\u001b[39m []\n\u001b[1;32m----> 3\u001b[0m n \u001b[38;5;241m=\u001b[39m \u001b[38;5;28;43mint\u001b[39;49m\u001b[43m(\u001b[49m\u001b[38;5;28;43minput\u001b[39;49m\u001b[43m(\u001b[49m\u001b[38;5;124;43m\"\u001b[39;49m\u001b[38;5;124;43mEnter number of elements: \u001b[39;49m\u001b[38;5;124;43m\"\u001b[39;49m\u001b[43m)\u001b[49m\u001b[43m)\u001b[49m\n\u001b[0;32m      4\u001b[0m \u001b[38;5;28msum\u001b[39m \u001b[38;5;241m=\u001b[39m \u001b[38;5;241m0\u001b[39m\n\u001b[0;32m      6\u001b[0m \u001b[38;5;28;01mfor\u001b[39;00m i \u001b[38;5;129;01min\u001b[39;00m \u001b[38;5;28mrange\u001b[39m(n):\n",
      "\u001b[1;31mValueError\u001b[0m: invalid literal for int() with base 10: ':'"
     ]
    }
   ],
   "source": [
    "myList = []\n",
    "\n",
    "n = int(input(\"Enter number of elements: \"))\n",
    "sum = 0\n",
    "\n",
    "for i in range(n):\n",
    "    myList.append(int(input()))\n",
    "    sum += myList[i]\n",
    "    \n",
    "print(sum) "
   ]
  },
  {
   "cell_type": "markdown",
   "id": "cfb5ce23",
   "metadata": {},
   "source": [
    "# 2. WAP to find the smallest and largest element in a list."
   ]
  },
  {
   "cell_type": "code",
   "execution_count": null,
   "id": "79b766f4",
   "metadata": {},
   "outputs": [
    {
     "name": "stdout",
     "output_type": "stream",
     "text": [
      "Max = 34\n",
      "Min = -46\n"
     ]
    }
   ],
   "source": [
    "myList = []\n",
    "\n",
    "n = int(input(\"Enter number of elements: \"))\n",
    "max = min = 0\n",
    "\n",
    "for i in range(n):\n",
    "    myList.append(int(input()))\n",
    "    \n",
    "    if(max < myList[i]):\n",
    "        max = myList[i]\n",
    "        \n",
    "    if(min > myList[i]):\n",
    "        min = myList[i]\n",
    "        \n",
    "print(\"max:\", max)\n",
    "print(\"min:\", min)"
   ]
  },
  {
   "cell_type": "markdown",
   "id": "0412f4c6",
   "metadata": {},
   "source": [
    "# 3. WAP to take a list of any six product names split the list into two and append the first part to the end of the list."
   ]
  },
  {
   "cell_type": "code",
   "execution_count": null,
   "id": "f692f811",
   "metadata": {},
   "outputs": [
    {
     "name": "stdout",
     "output_type": "stream",
     "text": [
      "['Notepad', 'Microsoft Office', 'Google Drive', 'Github', 'VS Code', 'Jira']\n"
     ]
    }
   ],
   "source": [
    "myList = []\n",
    "\n",
    "for i in range(6):\n",
    "    myList.append(input())\n",
    "\n",
    "myList.extend(myList[0:3])\n",
    "    \n",
    "print(myList)"
   ]
  },
  {
   "cell_type": "markdown",
   "id": "bd92e871",
   "metadata": {},
   "source": [
    "# 4. WAP to interchange first and last elements in list entered by a user."
   ]
  },
  {
   "cell_type": "code",
   "execution_count": null,
   "id": "63aaa5fe",
   "metadata": {},
   "outputs": [
    {
     "data": {
      "text/plain": [
       "['there', 'hi', 'hello']"
      ]
     },
     "execution_count": 18,
     "metadata": {},
     "output_type": "execute_result"
    }
   ],
   "source": [
    "myList = []\n",
    "\n",
    "n = int(input(\"Enter number of elements: \"))\n",
    "\n",
    "for i in range(n):\n",
    "    myList.append((input()))\n",
    "    \n",
    "myList[0], myList[-1] = myList[-1], myList[0]\n",
    "    \n",
    "print(myList)"
   ]
  },
  {
   "cell_type": "markdown",
   "id": "38e6b605",
   "metadata": {},
   "source": [
    "# 5. WAP to interchange the list elements on two positions entered by a user from a list."
   ]
  },
  {
   "cell_type": "code",
   "execution_count": null,
   "id": "340c079c",
   "metadata": {},
   "outputs": [
    {
     "data": {
      "text/plain": [
       "['This', 'List', 'A', 'Is']"
      ]
     },
     "execution_count": 3,
     "metadata": {},
     "output_type": "execute_result"
    }
   ],
   "source": [
    "myList = []\n",
    "\n",
    "n = int(input(\"Enter number of elements: \"))\n",
    "\n",
    "for i in range(n):\n",
    "    myList.append((input()))\n",
    "    \n",
    "firstPos = int(input(\"Enter first position: \"))\n",
    "secondPos = int(input(\"Enter second position: \"))\n",
    "\n",
    "myList[firstPos - 1], myList[secondPos - 1] = myList[secondPos - 1], myList[firstPos - 1]\n",
    "\n",
    "print(myList)"
   ]
  },
  {
   "cell_type": "markdown",
   "id": "f69eb92e",
   "metadata": {},
   "source": [
    "# 6. WAP to reverses the list entered by user."
   ]
  },
  {
   "cell_type": "code",
   "execution_count": null,
   "id": "9033bb24",
   "metadata": {},
   "outputs": [
    {
     "data": {
      "text/plain": [
       "['list', 'a', 'is', 'this']"
      ]
     },
     "execution_count": 15,
     "metadata": {},
     "output_type": "execute_result"
    }
   ],
   "source": [
    "myList = []\n",
    "\n",
    "n = int(input(\"Enter number of elements: \"))\n",
    "\n",
    "for i in range(n):\n",
    "    myList.append((input()))\n",
    "    \n",
    "for i in range(n//2):\n",
    "    myList[i], myList[(n - i) - 1] = myList[(n - i) - 1], myList[i]\n",
    "    \n",
    "print(myList)"
   ]
  },
  {
   "cell_type": "markdown",
   "id": "e23fc84a",
   "metadata": {},
   "source": [
    "# 7. WAP to print all even number in list entered by user."
   ]
  },
  {
   "cell_type": "code",
   "execution_count": null,
   "id": "6fa61ea9",
   "metadata": {},
   "outputs": [
    {
     "name": "stdout",
     "output_type": "stream",
     "text": [
      "2\n",
      "4\n",
      "6\n",
      "8\n",
      "10\n",
      "4\n"
     ]
    }
   ],
   "source": [
    "myList = []\n",
    "\n",
    "n = int(input(\"Enter number of elements: \"))\n",
    "\n",
    "for i in range(n):\n",
    "    myList.append(int(input()))\n",
    "\n",
    "for i in myList:\n",
    "    if(i % 2 == 0):\n",
    "        print(i)\n"
   ]
  },
  {
   "cell_type": "markdown",
   "id": "684a89d1",
   "metadata": {},
   "source": [
    "# 8. WAP to print all odd number in list entered by user."
   ]
  },
  {
   "cell_type": "code",
   "execution_count": null,
   "id": "39c21782",
   "metadata": {},
   "outputs": [],
   "source": [
    "myList = []\n",
    "\n",
    "n = int(input(\"Enter number of elements: \"))\n",
    "\n",
    "for i in range(n):\n",
    "    myList.append(int(input()))\n",
    "\n",
    "for i in myList:\n",
    "    if(i % 2 != 0):\n",
    "        print(i)\n"
   ]
  },
  {
   "cell_type": "markdown",
   "id": "58dd980c",
   "metadata": {},
   "source": [
    "# 9. WAP to search an element in a list as entered by user."
   ]
  },
  {
   "cell_type": "code",
   "execution_count": null,
   "id": "764e2b3c",
   "metadata": {},
   "outputs": [
    {
     "name": "stdout",
     "output_type": "stream",
     "text": [
      "2\n"
     ]
    }
   ],
   "source": [
    "# myList = ['Github', 'VS Code', 'JIRA', 'Notepad', 'Microsoft Office', 'Google Drive']\n",
    "\n",
    "# element = 'jira'\n",
    "\n",
    "myList = []\n",
    "\n",
    "n = int(input(\"Enter number of elements: \"))\n",
    "\n",
    "for i in range(n):\n",
    "    myList.append((input()))\n",
    "\n",
    "element = input('Enter element to search: ')\n",
    "\n",
    "for i in range(n):\n",
    "    if (myList[i] == element.upper()) or (myList[i] == element.lower()) or (myList[i] == element.title()):\n",
    "        print(i)\n"
   ]
  },
  {
   "cell_type": "markdown",
   "id": "6254c6df",
   "metadata": {},
   "source": [
    "# 10. WAP to sort a list in ascending or descending order as per user’s choice."
   ]
  },
  {
   "cell_type": "code",
   "execution_count": null,
   "id": "b991bb2d",
   "metadata": {},
   "outputs": [
    {
     "name": "stdout",
     "output_type": "stream",
     "text": [
      "[9, 8, 7, 6, 5, 4, 3, 2, 1]\n"
     ]
    }
   ],
   "source": [
    "fList = [5, 2, 9, 1, 6, 3, 8, 7, 4]\n",
    "choice = int(input(\"Enter 1 for ascending and 2 for descending: \"))\n",
    "\n",
    "n = len(fList)\n",
    "\n",
    "if choice == 1:\n",
    "    for i in range(n - 1):\n",
    "        for j in range(0, n - i - 1):\n",
    "            if fList[j] > fList[j + 1]:\n",
    "                fList[j], fList[j + 1] = fList[j + 1], fList[j]\n",
    "elif choice == 2:\n",
    "    for i in range(n - 1):\n",
    "        for j in range(0, n - i - 1):\n",
    "            if fList[j] < fList[j + 1]:\n",
    "                fList[j], fList[j + 1] = fList[j + 1], fList[j]\n",
    "else:\n",
    "    print(\"Invalid input\")\n",
    "\n",
    "\n",
    "print(fList)"
   ]
  },
  {
   "cell_type": "markdown",
   "id": "c6105056",
   "metadata": {},
   "source": [
    "# 11. WAP program to convert a list of characters entered by user into a string."
   ]
  },
  {
   "cell_type": "code",
   "execution_count": null,
   "id": "0bbb7329",
   "metadata": {},
   "outputs": [
    {
     "name": "stdout",
     "output_type": "stream",
     "text": [
      "parth\n"
     ]
    }
   ],
   "source": [
    "myList = []\n",
    "\n",
    "n = int(input(\"Enter number of elements: \"))\n",
    "\n",
    "for i in range(n):\n",
    "    myList.append((input()))\n",
    "\n",
    "myWord = ''.join(myList)\n",
    "\n",
    "print(myWord)"
   ]
  },
  {
   "cell_type": "markdown",
   "id": "8ba7f878",
   "metadata": {},
   "source": [
    "# 12. WAP to enter name, quantity and price of 5 products by a user. Generate and print all the details with the Product’s total amount in formatted manner."
   ]
  },
  {
   "cell_type": "code",
   "execution_count": null,
   "id": "a3823baa",
   "metadata": {},
   "outputs": [
    {
     "name": "stdout",
     "output_type": "stream",
     "text": [
      "Product\t\tQuantity\tPrice\t\tTotal\n",
      "Pencil    \t5         \t5         \t25\n",
      "Eraser    \t10        \t3         \t30\n",
      "Scale     \t3         \t7         \t21\n",
      "Sharpener \t8         \t4         \t32\n",
      "Map       \t24        \t2         \t48\n"
     ]
    }
   ],
   "source": [
    "namesList = ['Pencil', 'Eraser', 'Scale', 'Sharpener', 'Map']\n",
    "quantityList = ['5', '10', '3', '8', '24']\n",
    "priceList = ['5', '3', '7', '4', '2']\n",
    "\n",
    "print(\"Product\\t\\tQuantity\\tPrice\\t\\tTotal\")\n",
    "\n",
    "for name, quantity, price in zip(namesList, quantityList, priceList):\n",
    "    total = int(quantity) * int(price)\n",
    "    print(f\"{name.ljust(10)}\\t{quantity.ljust(10)}\\t{price.ljust(10)}\\t{total}\")"
   ]
  },
  {
   "cell_type": "markdown",
   "id": "d6437fec",
   "metadata": {},
   "source": [
    "# B programs\n",
    "# 1. WAP to count even and odd numbers in a List."
   ]
  },
  {
   "cell_type": "code",
   "execution_count": 5,
   "id": "a1f1b31e",
   "metadata": {},
   "outputs": [
    {
     "name": "stdout",
     "output_type": "stream",
     "text": [
      "2 even numbers. 3 odd numbers.\n"
     ]
    }
   ],
   "source": [
    "myList = []\n",
    "\n",
    "n = int(input(\"Enter number of elements: \"))\n",
    "\n",
    "for i in range(n):\n",
    "    myList.append(int(input()))\n",
    "\n",
    "evenCounter = 0\n",
    "oddCounter = 0\n",
    "\n",
    "for num in myList:\n",
    "    if num % 2 == 0:\n",
    "        evenCounter += 1\n",
    "    else:\n",
    "        oddCounter += 1\n",
    "\n",
    "print(f\"{evenCounter} even numbers. {oddCounter} odd numbers.\")"
   ]
  },
  {
   "cell_type": "markdown",
   "id": "1a552c04",
   "metadata": {},
   "source": [
    "# 2. WAP to remove multiple elements from a list in Python as per value entered by user."
   ]
  },
  {
   "cell_type": "code",
   "execution_count": 14,
   "id": "997f66e2",
   "metadata": {},
   "outputs": [
    {
     "name": "stdout",
     "output_type": "stream",
     "text": [
      "Invalid input\n",
      "[12, 3, 34, 2, 123, 3]\n"
     ]
    }
   ],
   "source": [
    "myList = [12, 3, 34, 2, 123, 3]\n",
    "\n",
    "num = int(input(\"Which number do you want to remove?\"))\n",
    "\n",
    "if num in myList:\n",
    "    occurencesToRemove = int(input(\"Do you want to remove all occurences? Enter 1 for Yes and 2 for No.\"))\n",
    "\n",
    "    if occurencesToRemove == 1:\n",
    "        while num in myList:\n",
    "            myList.remove(num)\n",
    "    elif occurencesToRemove == 2:\n",
    "        myList.remove(num)\n",
    "    else:\n",
    "        print(\"Invalid input\")\n",
    "else:\n",
    "    print(\"Number does not exist in list.\")\n",
    "\n",
    "print(myList)\n"
   ]
  },
  {
   "cell_type": "markdown",
   "id": "eca45fc0",
   "metadata": {},
   "source": [
    "# 3. WAP to print duplicates from a list of integers."
   ]
  },
  {
   "cell_type": "code",
   "execution_count": 19,
   "id": "a1882159",
   "metadata": {},
   "outputs": [
    {
     "data": {
      "text/plain": [
       "[12, 3, 123, 5]"
      ]
     },
     "execution_count": 19,
     "metadata": {},
     "output_type": "execute_result"
    }
   ],
   "source": [
    "myList = [12, 3, 34, 2, 123, 3, 12, 5, 5, 5, 6, 67, 123]\n",
    "duplicates = []\n",
    "\n",
    "for i in range(len(myList)):\n",
    "    for j in range(i + 1, len(myList)):\n",
    "        if (myList[i] == myList[j]) and (myList[i] not in duplicates):\n",
    "            duplicates.append(myList[i])\n",
    "\n",
    "duplicates\n"
   ]
  },
  {
   "cell_type": "markdown",
   "id": "ca8f5472",
   "metadata": {},
   "source": [
    "# 4. WAP to count the number of strings where the string length is 2 or more and the first and last character are same from a given list of strings."
   ]
  },
  {
   "cell_type": "code",
   "execution_count": 42,
   "id": "48f99a80",
   "metadata": {},
   "outputs": [
    {
     "name": "stdout",
     "output_type": "stream",
     "text": [
      "3\n"
     ]
    }
   ],
   "source": [
    "myList = ['Hugh', 'Pop', 'Me', 'Roar']\n",
    "\n",
    "stringCounter = 0\n",
    "\n",
    "for word in myList:\n",
    "    word = word.lower()\n",
    "\n",
    "    if (len(word) > 2) and (word[0] == word[-1]):\n",
    "        stringCounter += 1\n",
    "\n",
    "print(stringCounter)"
   ]
  },
  {
   "cell_type": "markdown",
   "id": "fe32afc5",
   "metadata": {},
   "source": [
    "# 5. WAP to check whether a list contains a sub-list and generate all sub-lists of a list."
   ]
  },
  {
   "cell_type": "code",
   "execution_count": 41,
   "id": "8cac8349",
   "metadata": {},
   "outputs": [
    {
     "name": "stdout",
     "output_type": "stream",
     "text": [
      "1\n"
     ]
    },
    {
     "ename": "IndexError",
     "evalue": "list index out of range",
     "output_type": "error",
     "traceback": [
      "\u001b[1;31m---------------------------------------------------------------------------\u001b[0m",
      "\u001b[1;31mIndexError\u001b[0m                                Traceback (most recent call last)",
      "Cell \u001b[1;32mIn[41], line 15\u001b[0m\n\u001b[0;32m     12\u001b[0m j \u001b[38;5;241m=\u001b[39m \u001b[38;5;241m0\u001b[39m\n\u001b[0;32m     14\u001b[0m \u001b[38;5;28;01mwhile\u001b[39;00m i \u001b[38;5;241m<\u001b[39m \u001b[38;5;28mlen\u001b[39m(myList):\n\u001b[1;32m---> 15\u001b[0m     \u001b[38;5;28;01mif\u001b[39;00m(myList[i] \u001b[38;5;241m==\u001b[39m \u001b[43mmySubList\u001b[49m\u001b[43m[\u001b[49m\u001b[43mj\u001b[49m\u001b[43m]\u001b[49m) \u001b[38;5;129;01mand\u001b[39;00m j \u001b[38;5;241m<\u001b[39m \u001b[38;5;28mlen\u001b[39m(mySubList):\n\u001b[0;32m     16\u001b[0m         subListExists \u001b[38;5;241m=\u001b[39m \u001b[38;5;28;01mTrue\u001b[39;00m\n\u001b[0;32m     17\u001b[0m     \u001b[38;5;28;01melse\u001b[39;00m:\n",
      "\u001b[1;31mIndexError\u001b[0m: list index out of range"
     ]
    }
   ],
   "source": [
    "myList = [12, 3, 34, 2, 123, 3]\n",
    "\n",
    "mySubList = [3, 34]\n",
    "\n",
    "subListExists = False\n",
    "\n"
   ]
  }
 ],
 "metadata": {
  "kernelspec": {
   "display_name": "Python 3 (ipykernel)",
   "language": "python",
   "name": "python3"
  },
  "language_info": {
   "codemirror_mode": {
    "name": "ipython",
    "version": 3
   },
   "file_extension": ".py",
   "mimetype": "text/x-python",
   "name": "python",
   "nbconvert_exporter": "python",
   "pygments_lexer": "ipython3",
   "version": "3.9.13"
  }
 },
 "nbformat": 4,
 "nbformat_minor": 5
}
